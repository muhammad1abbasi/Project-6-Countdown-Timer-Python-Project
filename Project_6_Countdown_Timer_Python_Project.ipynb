{
  "nbformat": 4,
  "nbformat_minor": 0,
  "metadata": {
    "colab": {
      "provenance": [],
      "authorship_tag": "ABX9TyOWG85wcWNE2uJMnmRdfTod",
      "include_colab_link": true
    },
    "kernelspec": {
      "name": "python3",
      "display_name": "Python 3"
    },
    "language_info": {
      "name": "python"
    }
  },
  "cells": [
    {
      "cell_type": "markdown",
      "metadata": {
        "id": "view-in-github",
        "colab_type": "text"
      },
      "source": [
        "<a href=\"https://colab.research.google.com/github/muhammad1abbasi/Project-6-Countdown-Timer-Python-Project/blob/main/Project_6_Countdown_Timer_Python_Project.ipynb\" target=\"_parent\"><img src=\"https://colab.research.google.com/assets/colab-badge.svg\" alt=\"Open In Colab\"/></a>"
      ]
    },
    {
      "cell_type": "markdown",
      "source": [
        "Project 6: Countdown Timer Python Project"
      ],
      "metadata": {
        "id": "ytx-u0DkVjp8"
      }
    },
    {
      "cell_type": "code",
      "execution_count": 1,
      "metadata": {
        "colab": {
          "base_uri": "https://localhost:8080/"
        },
        "id": "IiwfLLohU3J4",
        "outputId": "36f8a490-f5fd-44b4-f7aa-ba3bb58ca254"
      },
      "outputs": [
        {
          "output_type": "stream",
          "name": "stdout",
          "text": [
            "Enter the countdown time in seconds:5\n",
            "Times up!\n"
          ]
        }
      ],
      "source": [
        "import time\n",
        "\n",
        "def countdown_timer(seconds):\n",
        "  while seconds:\n",
        "    mins, secs = divmod(seconds, 60)\n",
        "    time_format = f\"{mins:02d}:{secs:02d}\"\n",
        "    print(time_format, end='\\r')\n",
        "    time.sleep(1)\n",
        "    seconds -= 1\n",
        "\n",
        "  print(\"Times up!\")\n",
        "if __name__ == \"__main__\":\n",
        "  seconds = int(input(\"Enter the countdown time in seconds:\"))\n",
        "  countdown_timer(seconds)"
      ]
    }
  ]
}